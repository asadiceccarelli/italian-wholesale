{
 "cells": [
  {
   "cell_type": "markdown",
   "metadata": {},
   "source": [
    "# Italian Day-Ahead prices"
   ]
  },
  {
   "cell_type": "code",
   "execution_count": 73,
   "metadata": {},
   "outputs": [],
   "source": [
    "import glob\n",
    "from datetime import datetime\n",
    "\n",
    "import pandas as pd\n",
    "import plotly.express as px\n",
    "import plotly.graph_objects as go\n",
    "from plotly.subplots import make_subplots"
   ]
  },
  {
   "cell_type": "markdown",
   "metadata": {},
   "source": [
    "### Import dataset"
   ]
  },
  {
   "cell_type": "code",
   "execution_count": 49,
   "metadata": {},
   "outputs": [
    {
     "data": {
      "text/html": [
       "<div>\n",
       "<style scoped>\n",
       "    .dataframe tbody tr th:only-of-type {\n",
       "        vertical-align: middle;\n",
       "    }\n",
       "\n",
       "    .dataframe tbody tr th {\n",
       "        vertical-align: top;\n",
       "    }\n",
       "\n",
       "    .dataframe thead th {\n",
       "        text-align: right;\n",
       "    }\n",
       "</style>\n",
       "<table border=\"1\" class=\"dataframe\">\n",
       "  <thead>\n",
       "    <tr style=\"text-align: right;\">\n",
       "      <th></th>\n",
       "      <th>date</th>\n",
       "      <th>hour</th>\n",
       "      <th>Totale Italia\\n/Total Italy</th>\n",
       "      <th>AUST</th>\n",
       "      <th>BSP</th>\n",
       "      <th>CALA</th>\n",
       "      <th>CNOR</th>\n",
       "      <th>COAC</th>\n",
       "      <th>CORS</th>\n",
       "      <th>CSUD</th>\n",
       "      <th>...</th>\n",
       "      <th>MONT</th>\n",
       "      <th>NORD</th>\n",
       "      <th>SARD</th>\n",
       "      <th>SICI</th>\n",
       "      <th>SLOV</th>\n",
       "      <th>SUD</th>\n",
       "      <th>SVIZ</th>\n",
       "      <th>XAUS</th>\n",
       "      <th>XFRA</th>\n",
       "      <th>XGRE</th>\n",
       "    </tr>\n",
       "  </thead>\n",
       "  <tbody>\n",
       "    <tr>\n",
       "      <th>0</th>\n",
       "      <td>2022-01-01</td>\n",
       "      <td>1</td>\n",
       "      <td>22734.860</td>\n",
       "      <td>0</td>\n",
       "      <td>0.000</td>\n",
       "      <td>540.578</td>\n",
       "      <td>1932.271</td>\n",
       "      <td>100</td>\n",
       "      <td>0</td>\n",
       "      <td>4331.270</td>\n",
       "      <td>...</td>\n",
       "      <td>0.0</td>\n",
       "      <td>11541.791</td>\n",
       "      <td>831.075</td>\n",
       "      <td>1662.318</td>\n",
       "      <td>0</td>\n",
       "      <td>1562.584</td>\n",
       "      <td>0.0</td>\n",
       "      <td>0.0</td>\n",
       "      <td>0.0</td>\n",
       "      <td>187.973</td>\n",
       "    </tr>\n",
       "    <tr>\n",
       "      <th>1</th>\n",
       "      <td>2022-01-01</td>\n",
       "      <td>2</td>\n",
       "      <td>21408.031</td>\n",
       "      <td>0</td>\n",
       "      <td>0.000</td>\n",
       "      <td>488.281</td>\n",
       "      <td>1780.251</td>\n",
       "      <td>100</td>\n",
       "      <td>0</td>\n",
       "      <td>3983.880</td>\n",
       "      <td>...</td>\n",
       "      <td>0.0</td>\n",
       "      <td>10805.096</td>\n",
       "      <td>773.163</td>\n",
       "      <td>1519.128</td>\n",
       "      <td>0</td>\n",
       "      <td>1437.681</td>\n",
       "      <td>0.0</td>\n",
       "      <td>0.0</td>\n",
       "      <td>0.0</td>\n",
       "      <td>493.551</td>\n",
       "    </tr>\n",
       "    <tr>\n",
       "      <th>2</th>\n",
       "      <td>2022-01-01</td>\n",
       "      <td>3</td>\n",
       "      <td>20455.582</td>\n",
       "      <td>0</td>\n",
       "      <td>0.000</td>\n",
       "      <td>452.452</td>\n",
       "      <td>1711.282</td>\n",
       "      <td>100</td>\n",
       "      <td>0</td>\n",
       "      <td>3704.993</td>\n",
       "      <td>...</td>\n",
       "      <td>0.0</td>\n",
       "      <td>10475.436</td>\n",
       "      <td>743.449</td>\n",
       "      <td>1412.135</td>\n",
       "      <td>0</td>\n",
       "      <td>1351.310</td>\n",
       "      <td>0.0</td>\n",
       "      <td>0.0</td>\n",
       "      <td>0.0</td>\n",
       "      <td>489.525</td>\n",
       "    </tr>\n",
       "    <tr>\n",
       "      <th>3</th>\n",
       "      <td>2022-01-01</td>\n",
       "      <td>4</td>\n",
       "      <td>19656.093</td>\n",
       "      <td>0</td>\n",
       "      <td>0.000</td>\n",
       "      <td>431.129</td>\n",
       "      <td>1645.511</td>\n",
       "      <td>100</td>\n",
       "      <td>0</td>\n",
       "      <td>3540.207</td>\n",
       "      <td>...</td>\n",
       "      <td>0.0</td>\n",
       "      <td>10137.390</td>\n",
       "      <td>723.464</td>\n",
       "      <td>1338.248</td>\n",
       "      <td>0</td>\n",
       "      <td>1302.552</td>\n",
       "      <td>0.0</td>\n",
       "      <td>0.0</td>\n",
       "      <td>0.0</td>\n",
       "      <td>427.592</td>\n",
       "    </tr>\n",
       "    <tr>\n",
       "      <th>4</th>\n",
       "      <td>2022-01-01</td>\n",
       "      <td>5</td>\n",
       "      <td>19631.485</td>\n",
       "      <td>0</td>\n",
       "      <td>0.000</td>\n",
       "      <td>425.683</td>\n",
       "      <td>1631.908</td>\n",
       "      <td>100</td>\n",
       "      <td>0</td>\n",
       "      <td>3471.483</td>\n",
       "      <td>...</td>\n",
       "      <td>0.0</td>\n",
       "      <td>10222.364</td>\n",
       "      <td>714.230</td>\n",
       "      <td>1310.551</td>\n",
       "      <td>0</td>\n",
       "      <td>1303.966</td>\n",
       "      <td>0.0</td>\n",
       "      <td>0.0</td>\n",
       "      <td>0.0</td>\n",
       "      <td>440.300</td>\n",
       "    </tr>\n",
       "    <tr>\n",
       "      <th>...</th>\n",
       "      <td>...</td>\n",
       "      <td>...</td>\n",
       "      <td>...</td>\n",
       "      <td>...</td>\n",
       "      <td>...</td>\n",
       "      <td>...</td>\n",
       "      <td>...</td>\n",
       "      <td>...</td>\n",
       "      <td>...</td>\n",
       "      <td>...</td>\n",
       "      <td>...</td>\n",
       "      <td>...</td>\n",
       "      <td>...</td>\n",
       "      <td>...</td>\n",
       "      <td>...</td>\n",
       "      <td>...</td>\n",
       "      <td>...</td>\n",
       "      <td>...</td>\n",
       "      <td>...</td>\n",
       "      <td>...</td>\n",
       "      <td>...</td>\n",
       "    </tr>\n",
       "    <tr>\n",
       "      <th>8755</th>\n",
       "      <td>2022-12-31</td>\n",
       "      <td>20</td>\n",
       "      <td>30597.167</td>\n",
       "      <td>0</td>\n",
       "      <td>660.000</td>\n",
       "      <td>778.831</td>\n",
       "      <td>2573.871</td>\n",
       "      <td>99</td>\n",
       "      <td>42</td>\n",
       "      <td>5664.280</td>\n",
       "      <td>...</td>\n",
       "      <td>0.0</td>\n",
       "      <td>14903.585</td>\n",
       "      <td>1005.047</td>\n",
       "      <td>2224.134</td>\n",
       "      <td>0</td>\n",
       "      <td>2119.419</td>\n",
       "      <td>0.0</td>\n",
       "      <td>0.0</td>\n",
       "      <td>0.0</td>\n",
       "      <td>500.000</td>\n",
       "    </tr>\n",
       "    <tr>\n",
       "      <th>8756</th>\n",
       "      <td>2022-12-31</td>\n",
       "      <td>21</td>\n",
       "      <td>28471.416</td>\n",
       "      <td>0</td>\n",
       "      <td>209.167</td>\n",
       "      <td>733.357</td>\n",
       "      <td>2415.711</td>\n",
       "      <td>95</td>\n",
       "      <td>42</td>\n",
       "      <td>5326.895</td>\n",
       "      <td>...</td>\n",
       "      <td>0.0</td>\n",
       "      <td>14074.342</td>\n",
       "      <td>966.943</td>\n",
       "      <td>2084.145</td>\n",
       "      <td>0</td>\n",
       "      <td>2019.856</td>\n",
       "      <td>0.0</td>\n",
       "      <td>0.0</td>\n",
       "      <td>0.0</td>\n",
       "      <td>500.000</td>\n",
       "    </tr>\n",
       "    <tr>\n",
       "      <th>8757</th>\n",
       "      <td>2022-12-31</td>\n",
       "      <td>22</td>\n",
       "      <td>26771.098</td>\n",
       "      <td>0</td>\n",
       "      <td>660.000</td>\n",
       "      <td>664.085</td>\n",
       "      <td>2140.498</td>\n",
       "      <td>96</td>\n",
       "      <td>42</td>\n",
       "      <td>4906.681</td>\n",
       "      <td>...</td>\n",
       "      <td>0.0</td>\n",
       "      <td>13082.721</td>\n",
       "      <td>881.330</td>\n",
       "      <td>1879.025</td>\n",
       "      <td>0</td>\n",
       "      <td>1818.758</td>\n",
       "      <td>0.0</td>\n",
       "      <td>100.0</td>\n",
       "      <td>0.0</td>\n",
       "      <td>500.000</td>\n",
       "    </tr>\n",
       "    <tr>\n",
       "      <th>8758</th>\n",
       "      <td>2022-12-31</td>\n",
       "      <td>23</td>\n",
       "      <td>24992.872</td>\n",
       "      <td>0</td>\n",
       "      <td>660.000</td>\n",
       "      <td>613.016</td>\n",
       "      <td>1985.785</td>\n",
       "      <td>97</td>\n",
       "      <td>42</td>\n",
       "      <td>4618.715</td>\n",
       "      <td>...</td>\n",
       "      <td>0.0</td>\n",
       "      <td>12118.264</td>\n",
       "      <td>826.781</td>\n",
       "      <td>1751.466</td>\n",
       "      <td>0</td>\n",
       "      <td>1679.845</td>\n",
       "      <td>0.0</td>\n",
       "      <td>100.0</td>\n",
       "      <td>0.0</td>\n",
       "      <td>500.000</td>\n",
       "    </tr>\n",
       "    <tr>\n",
       "      <th>8759</th>\n",
       "      <td>2022-12-31</td>\n",
       "      <td>24</td>\n",
       "      <td>23504.605</td>\n",
       "      <td>0</td>\n",
       "      <td>680.000</td>\n",
       "      <td>563.130</td>\n",
       "      <td>1853.660</td>\n",
       "      <td>99</td>\n",
       "      <td>42</td>\n",
       "      <td>4322.243</td>\n",
       "      <td>...</td>\n",
       "      <td>0.0</td>\n",
       "      <td>11266.090</td>\n",
       "      <td>784.893</td>\n",
       "      <td>1640.778</td>\n",
       "      <td>0</td>\n",
       "      <td>1607.811</td>\n",
       "      <td>0.0</td>\n",
       "      <td>145.0</td>\n",
       "      <td>0.0</td>\n",
       "      <td>500.000</td>\n",
       "    </tr>\n",
       "  </tbody>\n",
       "</table>\n",
       "<p>8760 rows × 23 columns</p>\n",
       "</div>"
      ],
      "text/plain": [
       "           date  hour  Totale Italia\\n/Total Italy  AUST      BSP     CALA  \\\n",
       "0    2022-01-01     1                    22734.860     0    0.000  540.578   \n",
       "1    2022-01-01     2                    21408.031     0    0.000  488.281   \n",
       "2    2022-01-01     3                    20455.582     0    0.000  452.452   \n",
       "3    2022-01-01     4                    19656.093     0    0.000  431.129   \n",
       "4    2022-01-01     5                    19631.485     0    0.000  425.683   \n",
       "...         ...   ...                          ...   ...      ...      ...   \n",
       "8755 2022-12-31    20                    30597.167     0  660.000  778.831   \n",
       "8756 2022-12-31    21                    28471.416     0  209.167  733.357   \n",
       "8757 2022-12-31    22                    26771.098     0  660.000  664.085   \n",
       "8758 2022-12-31    23                    24992.872     0  660.000  613.016   \n",
       "8759 2022-12-31    24                    23504.605     0  680.000  563.130   \n",
       "\n",
       "          CNOR  COAC  CORS      CSUD  ...  MONT       NORD      SARD  \\\n",
       "0     1932.271   100     0  4331.270  ...   0.0  11541.791   831.075   \n",
       "1     1780.251   100     0  3983.880  ...   0.0  10805.096   773.163   \n",
       "2     1711.282   100     0  3704.993  ...   0.0  10475.436   743.449   \n",
       "3     1645.511   100     0  3540.207  ...   0.0  10137.390   723.464   \n",
       "4     1631.908   100     0  3471.483  ...   0.0  10222.364   714.230   \n",
       "...        ...   ...   ...       ...  ...   ...        ...       ...   \n",
       "8755  2573.871    99    42  5664.280  ...   0.0  14903.585  1005.047   \n",
       "8756  2415.711    95    42  5326.895  ...   0.0  14074.342   966.943   \n",
       "8757  2140.498    96    42  4906.681  ...   0.0  13082.721   881.330   \n",
       "8758  1985.785    97    42  4618.715  ...   0.0  12118.264   826.781   \n",
       "8759  1853.660    99    42  4322.243  ...   0.0  11266.090   784.893   \n",
       "\n",
       "          SICI  SLOV       SUD  SVIZ   XAUS  XFRA     XGRE  \n",
       "0     1662.318     0  1562.584   0.0    0.0   0.0  187.973  \n",
       "1     1519.128     0  1437.681   0.0    0.0   0.0  493.551  \n",
       "2     1412.135     0  1351.310   0.0    0.0   0.0  489.525  \n",
       "3     1338.248     0  1302.552   0.0    0.0   0.0  427.592  \n",
       "4     1310.551     0  1303.966   0.0    0.0   0.0  440.300  \n",
       "...        ...   ...       ...   ...    ...   ...      ...  \n",
       "8755  2224.134     0  2119.419   0.0    0.0   0.0  500.000  \n",
       "8756  2084.145     0  2019.856   0.0    0.0   0.0  500.000  \n",
       "8757  1879.025     0  1818.758   0.0  100.0   0.0  500.000  \n",
       "8758  1751.466     0  1679.845   0.0  100.0   0.0  500.000  \n",
       "8759  1640.778     0  1607.811   0.0  145.0   0.0  500.000  \n",
       "\n",
       "[8760 rows x 23 columns]"
      ]
     },
     "execution_count": 49,
     "metadata": {},
     "output_type": "execute_result"
    }
   ],
   "source": [
    "sup_vol_df = pd.read_excel('../data/raw_data/historic_prices/Anno 2022_12.xlsx', sheet_name='Vendite-Sales')\n",
    "sup_vol_df.rename({'   Data/Date\\n(YYYYMMDD)': 'date', 'Ora\\n/Hour': 'hour'}, axis=1, inplace=True)\n",
    "sup_vol_df.date = pd.to_datetime(sup_vol_df.date, format='%Y%m%d').dt.normalize()\n",
    "\n",
    "dem_vol_df = pd.read_excel('../data/raw_data/historic_prices/Anno 2022_12.xlsx', sheet_name='Acquisti-Purchases')\n",
    "dem_vol_df.rename({'   Data/Date\\n(YYYYMMDD)': 'date', 'Ora\\n/Hour': 'hour'}, axis=1, inplace=True)\n",
    "dem_vol_df.date = pd.to_datetime(dem_vol_df.date, format='%Y%m%d').dt.normalize()\n",
    "dem_vol_df\n"
   ]
  },
  {
   "cell_type": "code",
   "execution_count": 55,
   "metadata": {},
   "outputs": [
    {
     "data": {
      "text/plain": [
       "hour                              12.500114\n",
       "Totale Italia\\n/Total Italy    33010.528904\n",
       "AUST                               0.001598\n",
       "BSP                               61.873684\n",
       "CALA                             639.926946\n",
       "CNOR                            2798.134407\n",
       "COAC                              66.295662\n",
       "CORS                              21.664612\n",
       "CSUD                            5680.131383\n",
       "FRAN                               6.333676\n",
       "GREC                               0.000000\n",
       "MALT                              70.513059\n",
       "MONT                              79.998990\n",
       "NORD                           18248.302980\n",
       "SARD                             967.071894\n",
       "SICI                            1987.010915\n",
       "SLOV                               0.000000\n",
       "SUD                             2058.754679\n",
       "SVIZ                             119.523488\n",
       "XAUS                               7.116703\n",
       "XFRA                              57.432741\n",
       "XGRE                             140.441485\n",
       "dtype: float64"
      ]
     },
     "execution_count": 55,
     "metadata": {},
     "output_type": "execute_result"
    }
   ],
   "source": [
    "dem_vol_df.mean(numeric_only=True)"
   ]
  },
  {
   "cell_type": "code",
   "execution_count": 58,
   "metadata": {},
   "outputs": [
    {
     "data": {
      "text/plain": [
       "hour                              12.500114\n",
       "Totale Italia\\n/Total Italy    33010.529034\n",
       "AUST                               0.001941\n",
       "BSP                              422.337940\n",
       "CALA                            1661.127588\n",
       "CNOR                            1705.451520\n",
       "COAC                               0.000000\n",
       "CORS                               0.000000\n",
       "CSUD                            3334.044959\n",
       "FRAN                              29.745091\n",
       "GREC                               0.000000\n",
       "MALT                               0.298516\n",
       "MONT                             408.472922\n",
       "NORD                           13275.952125\n",
       "SARD                            1426.565746\n",
       "SICI                            1873.683747\n",
       "SLOV                               0.000000\n",
       "SUD                             4172.102723\n",
       "SVIZ                            2188.386284\n",
       "XAUS                             226.886128\n",
       "XFRA                            2094.866483\n",
       "XGRE                             190.605321\n",
       "dtype: float64"
      ]
     },
     "execution_count": 58,
     "metadata": {},
     "output_type": "execute_result"
    }
   ],
   "source": [
    "sup_vol_df.mean(numeric_only=True)"
   ]
  },
  {
   "cell_type": "markdown",
   "metadata": {},
   "source": [
    "### Plot data"
   ]
  },
  {
   "cell_type": "code",
   "execution_count": 71,
   "metadata": {},
   "outputs": [],
   "source": [
    "dem_volumes = dem_vol_df[['CNOR', 'CSUD', 'NORD', 'SARD', 'SICI', 'SUD', 'CALA']]\n",
    "sup_volumes = sup_vol_df[['CALA', 'CNOR', 'CSUD', 'NORD', 'SARD', 'SICI', 'SUD', 'SVIZ', 'XFRA']]"
   ]
  },
  {
   "cell_type": "code",
   "execution_count": 84,
   "metadata": {},
   "outputs": [
    {
     "data": {
      "application/vnd.plotly.v1+json": {
       "config": {
        "plotlyServerURL": "https://plot.ly"
       },
       "data": [
        {
         "domain": {
          "x": [
           0,
           0.45
          ],
          "y": [
           0,
           1
          ]
         },
         "labels": [
          "CALA",
          "CNOR",
          "CSUD",
          "NORD",
          "SARD",
          "SICI",
          "SUD",
          "SVIZ",
          "XFRA"
         ],
         "type": "pie",
         "values": [
          14551477.673,
          14939755.319000002,
          29206233.838,
          116297340.616,
          12496715.932,
          16413469.626,
          36547619.85300001,
          19170263.845999997,
          18351030.387000002
         ]
        },
        {
         "domain": {
          "x": [
           0.55,
           1
          ],
          "y": [
           0,
           1
          ]
         },
         "labels": [
          "CNOR",
          "CSUD",
          "NORD",
          "SARD",
          "SICI",
          "SUD",
          "CALA"
         ],
         "type": "pie",
         "values": [
          24511657.407,
          49757950.914,
          159855134.104,
          8471549.792,
          17406215.619,
          18034690.992,
          5605760.047
         ]
        }
       ],
       "layout": {
        "annotations": [
         {
          "font": {
           "size": 16
          },
          "showarrow": false,
          "text": "Supply",
          "x": 0.225,
          "xanchor": "center",
          "xref": "paper",
          "y": 1,
          "yanchor": "bottom",
          "yref": "paper"
         },
         {
          "font": {
           "size": 16
          },
          "showarrow": false,
          "text": "Demand",
          "x": 0.775,
          "xanchor": "center",
          "xref": "paper",
          "y": 1,
          "yanchor": "bottom",
          "yref": "paper"
         }
        ],
        "height": 500,
        "template": {
         "data": {
          "bar": [
           {
            "error_x": {
             "color": "rgb(51,51,51)"
            },
            "error_y": {
             "color": "rgb(51,51,51)"
            },
            "marker": {
             "line": {
              "color": "rgb(237,237,237)",
              "width": 0.5
             },
             "pattern": {
              "fillmode": "overlay",
              "size": 10,
              "solidity": 0.2
             }
            },
            "type": "bar"
           }
          ],
          "barpolar": [
           {
            "marker": {
             "line": {
              "color": "rgb(237,237,237)",
              "width": 0.5
             },
             "pattern": {
              "fillmode": "overlay",
              "size": 10,
              "solidity": 0.2
             }
            },
            "type": "barpolar"
           }
          ],
          "carpet": [
           {
            "aaxis": {
             "endlinecolor": "rgb(51,51,51)",
             "gridcolor": "white",
             "linecolor": "white",
             "minorgridcolor": "white",
             "startlinecolor": "rgb(51,51,51)"
            },
            "baxis": {
             "endlinecolor": "rgb(51,51,51)",
             "gridcolor": "white",
             "linecolor": "white",
             "minorgridcolor": "white",
             "startlinecolor": "rgb(51,51,51)"
            },
            "type": "carpet"
           }
          ],
          "choropleth": [
           {
            "colorbar": {
             "outlinewidth": 0,
             "tickcolor": "rgb(237,237,237)",
             "ticklen": 6,
             "ticks": "inside"
            },
            "type": "choropleth"
           }
          ],
          "contour": [
           {
            "colorbar": {
             "outlinewidth": 0,
             "tickcolor": "rgb(237,237,237)",
             "ticklen": 6,
             "ticks": "inside"
            },
            "colorscale": [
             [
              0,
              "rgb(20,44,66)"
             ],
             [
              1,
              "rgb(90,179,244)"
             ]
            ],
            "type": "contour"
           }
          ],
          "contourcarpet": [
           {
            "colorbar": {
             "outlinewidth": 0,
             "tickcolor": "rgb(237,237,237)",
             "ticklen": 6,
             "ticks": "inside"
            },
            "type": "contourcarpet"
           }
          ],
          "heatmap": [
           {
            "colorbar": {
             "outlinewidth": 0,
             "tickcolor": "rgb(237,237,237)",
             "ticklen": 6,
             "ticks": "inside"
            },
            "colorscale": [
             [
              0,
              "rgb(20,44,66)"
             ],
             [
              1,
              "rgb(90,179,244)"
             ]
            ],
            "type": "heatmap"
           }
          ],
          "heatmapgl": [
           {
            "colorbar": {
             "outlinewidth": 0,
             "tickcolor": "rgb(237,237,237)",
             "ticklen": 6,
             "ticks": "inside"
            },
            "colorscale": [
             [
              0,
              "rgb(20,44,66)"
             ],
             [
              1,
              "rgb(90,179,244)"
             ]
            ],
            "type": "heatmapgl"
           }
          ],
          "histogram": [
           {
            "marker": {
             "pattern": {
              "fillmode": "overlay",
              "size": 10,
              "solidity": 0.2
             }
            },
            "type": "histogram"
           }
          ],
          "histogram2d": [
           {
            "colorbar": {
             "outlinewidth": 0,
             "tickcolor": "rgb(237,237,237)",
             "ticklen": 6,
             "ticks": "inside"
            },
            "colorscale": [
             [
              0,
              "rgb(20,44,66)"
             ],
             [
              1,
              "rgb(90,179,244)"
             ]
            ],
            "type": "histogram2d"
           }
          ],
          "histogram2dcontour": [
           {
            "colorbar": {
             "outlinewidth": 0,
             "tickcolor": "rgb(237,237,237)",
             "ticklen": 6,
             "ticks": "inside"
            },
            "colorscale": [
             [
              0,
              "rgb(20,44,66)"
             ],
             [
              1,
              "rgb(90,179,244)"
             ]
            ],
            "type": "histogram2dcontour"
           }
          ],
          "mesh3d": [
           {
            "colorbar": {
             "outlinewidth": 0,
             "tickcolor": "rgb(237,237,237)",
             "ticklen": 6,
             "ticks": "inside"
            },
            "type": "mesh3d"
           }
          ],
          "parcoords": [
           {
            "line": {
             "colorbar": {
              "outlinewidth": 0,
              "tickcolor": "rgb(237,237,237)",
              "ticklen": 6,
              "ticks": "inside"
             }
            },
            "type": "parcoords"
           }
          ],
          "pie": [
           {
            "automargin": true,
            "type": "pie"
           }
          ],
          "scatter": [
           {
            "fillpattern": {
             "fillmode": "overlay",
             "size": 10,
             "solidity": 0.2
            },
            "type": "scatter"
           }
          ],
          "scatter3d": [
           {
            "line": {
             "colorbar": {
              "outlinewidth": 0,
              "tickcolor": "rgb(237,237,237)",
              "ticklen": 6,
              "ticks": "inside"
             }
            },
            "marker": {
             "colorbar": {
              "outlinewidth": 0,
              "tickcolor": "rgb(237,237,237)",
              "ticklen": 6,
              "ticks": "inside"
             }
            },
            "type": "scatter3d"
           }
          ],
          "scattercarpet": [
           {
            "marker": {
             "colorbar": {
              "outlinewidth": 0,
              "tickcolor": "rgb(237,237,237)",
              "ticklen": 6,
              "ticks": "inside"
             }
            },
            "type": "scattercarpet"
           }
          ],
          "scattergeo": [
           {
            "marker": {
             "colorbar": {
              "outlinewidth": 0,
              "tickcolor": "rgb(237,237,237)",
              "ticklen": 6,
              "ticks": "inside"
             }
            },
            "type": "scattergeo"
           }
          ],
          "scattergl": [
           {
            "marker": {
             "colorbar": {
              "outlinewidth": 0,
              "tickcolor": "rgb(237,237,237)",
              "ticklen": 6,
              "ticks": "inside"
             }
            },
            "type": "scattergl"
           }
          ],
          "scattermapbox": [
           {
            "marker": {
             "colorbar": {
              "outlinewidth": 0,
              "tickcolor": "rgb(237,237,237)",
              "ticklen": 6,
              "ticks": "inside"
             }
            },
            "type": "scattermapbox"
           }
          ],
          "scatterpolar": [
           {
            "marker": {
             "colorbar": {
              "outlinewidth": 0,
              "tickcolor": "rgb(237,237,237)",
              "ticklen": 6,
              "ticks": "inside"
             }
            },
            "type": "scatterpolar"
           }
          ],
          "scatterpolargl": [
           {
            "marker": {
             "colorbar": {
              "outlinewidth": 0,
              "tickcolor": "rgb(237,237,237)",
              "ticklen": 6,
              "ticks": "inside"
             }
            },
            "type": "scatterpolargl"
           }
          ],
          "scatterternary": [
           {
            "marker": {
             "colorbar": {
              "outlinewidth": 0,
              "tickcolor": "rgb(237,237,237)",
              "ticklen": 6,
              "ticks": "inside"
             }
            },
            "type": "scatterternary"
           }
          ],
          "surface": [
           {
            "colorbar": {
             "outlinewidth": 0,
             "tickcolor": "rgb(237,237,237)",
             "ticklen": 6,
             "ticks": "inside"
            },
            "colorscale": [
             [
              0,
              "rgb(20,44,66)"
             ],
             [
              1,
              "rgb(90,179,244)"
             ]
            ],
            "type": "surface"
           }
          ],
          "table": [
           {
            "cells": {
             "fill": {
              "color": "rgb(237,237,237)"
             },
             "line": {
              "color": "white"
             }
            },
            "header": {
             "fill": {
              "color": "rgb(217,217,217)"
             },
             "line": {
              "color": "white"
             }
            },
            "type": "table"
           }
          ]
         },
         "layout": {
          "annotationdefaults": {
           "arrowhead": 0,
           "arrowwidth": 1
          },
          "autotypenumbers": "strict",
          "coloraxis": {
           "colorbar": {
            "outlinewidth": 0,
            "tickcolor": "rgb(237,237,237)",
            "ticklen": 6,
            "ticks": "inside"
           }
          },
          "colorscale": {
           "sequential": [
            [
             0,
             "rgb(20,44,66)"
            ],
            [
             1,
             "rgb(90,179,244)"
            ]
           ],
           "sequentialminus": [
            [
             0,
             "rgb(20,44,66)"
            ],
            [
             1,
             "rgb(90,179,244)"
            ]
           ]
          },
          "colorway": [
           "#F8766D",
           "#A3A500",
           "#00BF7D",
           "#00B0F6",
           "#E76BF3"
          ],
          "font": {
           "color": "rgb(51,51,51)"
          },
          "geo": {
           "bgcolor": "white",
           "lakecolor": "white",
           "landcolor": "rgb(237,237,237)",
           "showlakes": true,
           "showland": true,
           "subunitcolor": "white"
          },
          "hoverlabel": {
           "align": "left"
          },
          "hovermode": "closest",
          "paper_bgcolor": "white",
          "plot_bgcolor": "rgb(237,237,237)",
          "polar": {
           "angularaxis": {
            "gridcolor": "white",
            "linecolor": "white",
            "showgrid": true,
            "tickcolor": "rgb(51,51,51)",
            "ticks": "outside"
           },
           "bgcolor": "rgb(237,237,237)",
           "radialaxis": {
            "gridcolor": "white",
            "linecolor": "white",
            "showgrid": true,
            "tickcolor": "rgb(51,51,51)",
            "ticks": "outside"
           }
          },
          "scene": {
           "xaxis": {
            "backgroundcolor": "rgb(237,237,237)",
            "gridcolor": "white",
            "gridwidth": 2,
            "linecolor": "white",
            "showbackground": true,
            "showgrid": true,
            "tickcolor": "rgb(51,51,51)",
            "ticks": "outside",
            "zerolinecolor": "white"
           },
           "yaxis": {
            "backgroundcolor": "rgb(237,237,237)",
            "gridcolor": "white",
            "gridwidth": 2,
            "linecolor": "white",
            "showbackground": true,
            "showgrid": true,
            "tickcolor": "rgb(51,51,51)",
            "ticks": "outside",
            "zerolinecolor": "white"
           },
           "zaxis": {
            "backgroundcolor": "rgb(237,237,237)",
            "gridcolor": "white",
            "gridwidth": 2,
            "linecolor": "white",
            "showbackground": true,
            "showgrid": true,
            "tickcolor": "rgb(51,51,51)",
            "ticks": "outside",
            "zerolinecolor": "white"
           }
          },
          "shapedefaults": {
           "fillcolor": "black",
           "line": {
            "width": 0
           },
           "opacity": 0.3
          },
          "ternary": {
           "aaxis": {
            "gridcolor": "white",
            "linecolor": "white",
            "showgrid": true,
            "tickcolor": "rgb(51,51,51)",
            "ticks": "outside"
           },
           "baxis": {
            "gridcolor": "white",
            "linecolor": "white",
            "showgrid": true,
            "tickcolor": "rgb(51,51,51)",
            "ticks": "outside"
           },
           "bgcolor": "rgb(237,237,237)",
           "caxis": {
            "gridcolor": "white",
            "linecolor": "white",
            "showgrid": true,
            "tickcolor": "rgb(51,51,51)",
            "ticks": "outside"
           }
          },
          "xaxis": {
           "automargin": true,
           "gridcolor": "white",
           "linecolor": "white",
           "showgrid": true,
           "tickcolor": "rgb(51,51,51)",
           "ticks": "outside",
           "title": {
            "standoff": 15
           },
           "zerolinecolor": "white"
          },
          "yaxis": {
           "automargin": true,
           "gridcolor": "white",
           "linecolor": "white",
           "showgrid": true,
           "tickcolor": "rgb(51,51,51)",
           "ticks": "outside",
           "title": {
            "standoff": 15
           },
           "zerolinecolor": "white"
          }
         }
        },
        "title": {
         "text": "2022 Volume distribution (>500 MW daily ave.)"
        },
        "width": 1200
       }
      }
     },
     "metadata": {},
     "output_type": "display_data"
    }
   ],
   "source": [
    "fig = make_subplots(\n",
    "    rows=1, cols=2,\n",
    "    subplot_titles=('Supply', 'Demand'),\n",
    "    specs=[[{'type': 'pie'}, {'type': 'pie'}]],\n",
    "    shared_xaxes=False\n",
    "    )\n",
    "\n",
    "fig.add_trace(go.Pie(\n",
    "    labels=sup_volumes.sum().index,\n",
    "    values=sup_volumes.sum().values\n",
    "), row=1, col=1)\n",
    "\n",
    "fig.add_trace(go.Pie(\n",
    "    labels=dem_volumes.sum().index,\n",
    "    values=dem_volumes.sum().values\n",
    "), row=1, col=2)\n",
    "\n",
    "fig.update_layout(\n",
    "    title='2022 Volume distribution (>500 MW daily ave.)',\n",
    "    template='ggplot2',\n",
    "    width=1200,\n",
    "    height=500,\n",
    ")\n",
    "\n",
    "fig.write_image('../figures/volume-dist.jpeg', scale=2, engine='orca')\n",
    "fig"
   ]
  }
 ],
 "metadata": {
  "kernelspec": {
   "display_name": "Python 3.9.13 ('base')",
   "language": "python",
   "name": "python3"
  },
  "language_info": {
   "codemirror_mode": {
    "name": "ipython",
    "version": 3
   },
   "file_extension": ".py",
   "mimetype": "text/x-python",
   "name": "python",
   "nbconvert_exporter": "python",
   "pygments_lexer": "ipython3",
   "version": "3.9.13"
  },
  "orig_nbformat": 4,
  "vscode": {
   "interpreter": {
    "hash": "0bcf432da8243f285952ce707b599979cf2470b8ebb1a85ff9103c3a3adc60f6"
   }
  }
 },
 "nbformat": 4,
 "nbformat_minor": 2
}
